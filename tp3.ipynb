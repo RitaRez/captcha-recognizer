{
 "cells": [
  {
   "cell_type": "code",
   "execution_count": 23,
   "metadata": {},
   "outputs": [],
   "source": [
    "import cv2\n",
    "import numpy as np\n",
    "from keras import models\n",
    "from keras import layers"
   ]
  },
  {
   "cell_type": "markdown",
   "metadata": {},
   "source": [
    "## Pré-processamento"
   ]
  },
  {
   "cell_type": "code",
   "execution_count": 7,
   "metadata": {},
   "outputs": [],
   "source": [
    "char_to_int = {\"0\" : 0, \"1\" : 1, \"2\" : 2, \"3\" : 3, \"4\" : 4, \"5\" : 5, \"6\" : 6, \"7\" : 7, \"8\" : 8, \"9\" : 9, \n",
    "               \"A\" : 10, \"B\" : 11, \"C\" : 12, \"D\" : 13, \"E\" : 14, \"F\" : 15, \"G\" : 16, \"H\" : 17, \"I\" : 18, \n",
    "               \"J\" : 19, \"K\" : 20, \"L\" : 21, \"M\" : 22, \"N\" : 23, \"O\" : 24, \"P\" : 25, \"Q\" : 26, \"R\" : 27, \n",
    "               \"S\" : 28, \"T\" : 29, \"U\" : 30, \"V\" : 31, \"X\" : 32, \"W\" : 33, \"Y\" : 34, \"Z\" : 35, \"?\": 36}"
   ]
  },
  {
   "cell_type": "code",
   "execution_count": 31,
   "metadata": {},
   "outputs": [],
   "source": [
    "def preProcessamento():\n",
    "\n",
    "    x_treino, x_validacao, x_teste = [], [], []\n",
    "    y_treino, y_validacao, y_teste = [], [], []\n",
    "    \n",
    "    for i in range(1, 10001):\n",
    "        \n",
    "        arq = open(\"labels10k/\" + f\"{i:06}\" + \".txt\", \"r\")\n",
    "        line = arq.readline()\n",
    "        arq.close()\n",
    "        chars = list(line)\n",
    "        \n",
    "        if i <= 8000:\n",
    "            caminho_img = \"treinamento/\" + f\"{i:06}\" + \".jpg\" \n",
    "        elif 8000 < i <= 9000:\n",
    "            caminho_img = \"validacao/\" + f\"{i:06}\" + \".jpg\"\n",
    "        else:\n",
    "            caminho_img = \"teste/\" + f\"{i:06}\" + \".jpg\"\n",
    "    \n",
    "        img = cv2.imread(caminho_img)\n",
    "        img_cinza = cv2.cvtColor(img, cv2.COLOR_BGR2GRAY)\n",
    "        img_bin = cv2.threshold(img_cinza, 16, 255, cv2.THRESH_BINARY)[1]\n",
    "        img_median = cv2.medianBlur(img_bin, 5)\n",
    "\n",
    "        k = 0\n",
    "        for j in range(10,img.shape[1],30):\n",
    "\n",
    "            aux = img_median[:,j:j+30]\n",
    "            aux = cv2.resize(aux,(40,40))\n",
    "            aux = cv2.threshold(aux, 127, 255, cv2.THRESH_BINARY)[1]\n",
    "            aux = aux/255\n",
    "            aux = aux.flatten()\n",
    "            \n",
    "            if i <= 8000:\n",
    "                x_treino.append(aux)\n",
    "                y_treino.append(char_to_int[chars[k]])\n",
    "                k+=1\n",
    "            elif 8000 < i <= 9000:\n",
    "                x_validacao.append(aux)\n",
    "                y_validacao.append(char_to_int[chars[k]])\n",
    "                k+=1\n",
    "            else:\n",
    "                x_teste.append(aux)\n",
    "                y_teste.append(char_to_int[chars[k]])\n",
    "                k+=1\n",
    "            \n",
    "    return [(np.array(x_treino), np.array(y_treino)),\n",
    "            (np.array(x_validacao), np.array(y_validacao)),\n",
    "            (np.array(x_teste), np.array(y_teste))]"
   ]
  },
  {
   "cell_type": "code",
   "execution_count": 32,
   "metadata": {},
   "outputs": [],
   "source": [
    "resultados = preProcessamento()"
   ]
  },
  {
   "cell_type": "code",
   "execution_count": 45,
   "metadata": {},
   "outputs": [
    {
     "data": {
      "text/plain": [
       "(1600,)"
      ]
     },
     "execution_count": 45,
     "metadata": {},
     "output_type": "execute_result"
    }
   ],
   "source": [
    "resultados[2][0][1].shape"
   ]
  },
  {
   "cell_type": "code",
   "execution_count": 52,
   "metadata": {},
   "outputs": [
    {
     "name": "stdout",
     "output_type": "stream",
     "text": [
      "16\n"
     ]
    }
   ],
   "source": [
    "num = 173\n",
    "print(str(resultados[0][1][num]))\n",
    "cv2.imshow(\"teste\", (resultados[0][0][num]*255).reshape((40,40)))\n",
    "cv2.waitKey()\n",
    "cv2.destroyAllWindows()"
   ]
  },
  {
   "cell_type": "markdown",
   "metadata": {},
   "source": [
    "## Classificação com redes neurais densas"
   ]
  },
  {
   "cell_type": "code",
   "execution_count": 73,
   "metadata": {},
   "outputs": [],
   "source": [
    "network = models.Sequential()\n",
    "network.add(layers.Dense(850, activation='relu', input_shape=(1600,)))\n",
    "network.add(layers.Dense(850, activation='relu'))\n",
    "network.add(layers.Dense(37, activation='relu'))\n",
    "\n",
    "network.compile(optimizer='rmsprop',loss='binary_crossentropy',metrics=['accuracy'])"
   ]
  },
  {
   "cell_type": "code",
   "execution_count": 74,
   "metadata": {},
   "outputs": [
    {
     "name": "stdout",
     "output_type": "stream",
     "text": [
      "Model: \"sequential_8\"\n",
      "_________________________________________________________________\n",
      " Layer (type)                Output Shape              Param #   \n",
      "=================================================================\n",
      " dense_24 (Dense)            (None, 850)               1360850   \n",
      "                                                                 \n",
      " dense_25 (Dense)            (None, 850)               723350    \n",
      "                                                                 \n",
      " dense_26 (Dense)            (None, 37)                31487     \n",
      "                                                                 \n",
      "=================================================================\n",
      "Total params: 2,115,687\n",
      "Trainable params: 2,115,687\n",
      "Non-trainable params: 0\n",
      "_________________________________________________________________\n",
      "None\n"
     ]
    }
   ],
   "source": [
    "print(network.summary())"
   ]
  },
  {
   "cell_type": "code",
   "execution_count": 64,
   "metadata": {},
   "outputs": [
    {
     "name": "stdout",
     "output_type": "stream",
     "text": [
      "Epoch 1/20\n",
      "94/94 [==============================] - 7s 69ms/step - loss: -207.3500 - accuracy: 0.0291 - val_loss: -209.1311 - val_accuracy: 0.0283\n",
      "Epoch 2/20\n",
      "94/94 [==============================] - 6s 66ms/step - loss: -211.1061 - accuracy: 0.0293 - val_loss: -209.1311 - val_accuracy: 0.0283\n",
      "Epoch 3/20\n",
      "94/94 [==============================] - 7s 70ms/step - loss: -211.1061 - accuracy: 0.0293 - val_loss: -209.1311 - val_accuracy: 0.0283\n",
      "Epoch 4/20\n",
      "94/94 [==============================] - 6s 67ms/step - loss: -211.1060 - accuracy: 0.0293 - val_loss: -209.1311 - val_accuracy: 0.0283\n",
      "Epoch 5/20\n",
      "94/94 [==============================] - 7s 71ms/step - loss: -211.1061 - accuracy: 0.0293 - val_loss: -209.1311 - val_accuracy: 0.0283\n",
      "Epoch 6/20\n",
      "94/94 [==============================] - 7s 73ms/step - loss: -211.1060 - accuracy: 0.0293 - val_loss: -209.1311 - val_accuracy: 0.0283\n",
      "Epoch 7/20\n",
      "94/94 [==============================] - 7s 71ms/step - loss: -211.1060 - accuracy: 0.0293 - val_loss: -209.1311 - val_accuracy: 0.0283\n",
      "Epoch 8/20\n",
      "94/94 [==============================] - 7s 71ms/step - loss: -211.1060 - accuracy: 0.0293 - val_loss: -209.1311 - val_accuracy: 0.0283\n",
      "Epoch 9/20\n",
      "94/94 [==============================] - 7s 69ms/step - loss: -211.1060 - accuracy: 0.0293 - val_loss: -209.1311 - val_accuracy: 0.0283\n",
      "Epoch 10/20\n",
      "94/94 [==============================] - 7s 71ms/step - loss: -211.1061 - accuracy: 0.0293 - val_loss: -209.1311 - val_accuracy: 0.0283\n",
      "Epoch 11/20\n",
      "94/94 [==============================] - 7s 71ms/step - loss: -211.1060 - accuracy: 0.0293 - val_loss: -209.1311 - val_accuracy: 0.0283\n",
      "Epoch 12/20\n",
      "94/94 [==============================] - 7s 70ms/step - loss: -211.1061 - accuracy: 0.0293 - val_loss: -209.1311 - val_accuracy: 0.0283\n",
      "Epoch 13/20\n",
      "94/94 [==============================] - 7s 71ms/step - loss: -211.1061 - accuracy: 0.0293 - val_loss: -209.1311 - val_accuracy: 0.0283\n",
      "Epoch 14/20\n",
      "94/94 [==============================] - 7s 71ms/step - loss: -211.1060 - accuracy: 0.0293 - val_loss: -209.1311 - val_accuracy: 0.0283\n",
      "Epoch 15/20\n",
      "94/94 [==============================] - 7s 71ms/step - loss: -211.1061 - accuracy: 0.0293 - val_loss: -209.1311 - val_accuracy: 0.0283\n",
      "Epoch 16/20\n",
      "94/94 [==============================] - 6s 69ms/step - loss: -211.1061 - accuracy: 0.0293 - val_loss: -209.1311 - val_accuracy: 0.0283\n",
      "Epoch 17/20\n",
      "94/94 [==============================] - 7s 70ms/step - loss: -211.1060 - accuracy: 0.0293 - val_loss: -209.1311 - val_accuracy: 0.0283\n",
      "Epoch 18/20\n",
      "94/94 [==============================] - 7s 72ms/step - loss: -211.1060 - accuracy: 0.0293 - val_loss: -209.1311 - val_accuracy: 0.0283\n",
      "Epoch 19/20\n",
      "94/94 [==============================] - 7s 69ms/step - loss: -211.1060 - accuracy: 0.0293 - val_loss: -209.1311 - val_accuracy: 0.0283\n",
      "Epoch 20/20\n",
      "94/94 [==============================] - 7s 71ms/step - loss: -211.1061 - accuracy: 0.0293 - val_loss: -209.1311 - val_accuracy: 0.0283\n"
     ]
    }
   ],
   "source": [
    "history = network.fit(resultados[0][0], resultados[0][1], epochs=20, batch_size=600, validation_data=(resultados[1][0], resultados[1][1]))"
   ]
  },
  {
   "cell_type": "code",
   "execution_count": 67,
   "metadata": {},
   "outputs": [
    {
     "name": "stdout",
     "output_type": "stream",
     "text": [
      "WARNING:tensorflow:Model was constructed with shape (None, 1600) for input KerasTensor(type_spec=TensorSpec(shape=(None, 1600), dtype=tf.float32, name='dense_21_input'), name='dense_21_input', description=\"created by layer 'dense_21_input'\"), but it was called on an input with incompatible shape (32,).\n"
     ]
    },
    {
     "ename": "ValueError",
     "evalue": "in user code:\n\n    File \"C:\\Users\\Arthur\\anaconda3\\lib\\site-packages\\keras\\engine\\training.py\", line 1845, in predict_function  *\n        return step_function(self, iterator)\n    File \"C:\\Users\\Arthur\\anaconda3\\lib\\site-packages\\keras\\engine\\training.py\", line 1834, in step_function  **\n        outputs = model.distribute_strategy.run(run_step, args=(data,))\n    File \"C:\\Users\\Arthur\\anaconda3\\lib\\site-packages\\keras\\engine\\training.py\", line 1823, in run_step  **\n        outputs = model.predict_step(data)\n    File \"C:\\Users\\Arthur\\anaconda3\\lib\\site-packages\\keras\\engine\\training.py\", line 1791, in predict_step\n        return self(x, training=False)\n    File \"C:\\Users\\Arthur\\anaconda3\\lib\\site-packages\\keras\\utils\\traceback_utils.py\", line 67, in error_handler\n        raise e.with_traceback(filtered_tb) from None\n    File \"C:\\Users\\Arthur\\anaconda3\\lib\\site-packages\\keras\\engine\\input_spec.py\", line 228, in assert_input_compatibility\n        raise ValueError(f'Input {input_index} of layer \"{layer_name}\" '\n\n    ValueError: Exception encountered when calling layer \"sequential_7\" (type Sequential).\n    \n    Input 0 of layer \"dense_21\" is incompatible with the layer: expected min_ndim=2, found ndim=1. Full shape received: (32,)\n    \n    Call arguments received by layer \"sequential_7\" (type Sequential):\n      • inputs=('tf.Tensor(shape=(32,), dtype=float32)',)\n      • training=False\n      • mask=None\n",
     "output_type": "error",
     "traceback": [
      "\u001b[1;31m---------------------------------------------------------------------------\u001b[0m",
      "\u001b[1;31mValueError\u001b[0m                                Traceback (most recent call last)",
      "\u001b[1;32m<ipython-input-67-d09252ff5e0f>\u001b[0m in \u001b[0;36m<module>\u001b[1;34m\u001b[0m\n\u001b[1;32m----> 1\u001b[1;33m \u001b[0mnetwork\u001b[0m\u001b[1;33m.\u001b[0m\u001b[0mpredict\u001b[0m\u001b[1;33m(\u001b[0m\u001b[1;33m[\u001b[0m\u001b[0mresultados\u001b[0m\u001b[1;33m[\u001b[0m\u001b[1;36m2\u001b[0m\u001b[1;33m]\u001b[0m\u001b[1;33m[\u001b[0m\u001b[1;36m0\u001b[0m\u001b[1;33m]\u001b[0m\u001b[1;33m[\u001b[0m\u001b[1;36m0\u001b[0m\u001b[1;33m]\u001b[0m\u001b[1;33m]\u001b[0m\u001b[1;33m)\u001b[0m\u001b[1;33m\u001b[0m\u001b[1;33m\u001b[0m\u001b[0m\n\u001b[0m",
      "\u001b[1;32m~\\anaconda3\\lib\\site-packages\\keras\\utils\\traceback_utils.py\u001b[0m in \u001b[0;36merror_handler\u001b[1;34m(*args, **kwargs)\u001b[0m\n\u001b[0;32m     65\u001b[0m     \u001b[1;32mexcept\u001b[0m \u001b[0mException\u001b[0m \u001b[1;32mas\u001b[0m \u001b[0me\u001b[0m\u001b[1;33m:\u001b[0m  \u001b[1;31m# pylint: disable=broad-except\u001b[0m\u001b[1;33m\u001b[0m\u001b[1;33m\u001b[0m\u001b[0m\n\u001b[0;32m     66\u001b[0m       \u001b[0mfiltered_tb\u001b[0m \u001b[1;33m=\u001b[0m \u001b[0m_process_traceback_frames\u001b[0m\u001b[1;33m(\u001b[0m\u001b[0me\u001b[0m\u001b[1;33m.\u001b[0m\u001b[0m__traceback__\u001b[0m\u001b[1;33m)\u001b[0m\u001b[1;33m\u001b[0m\u001b[1;33m\u001b[0m\u001b[0m\n\u001b[1;32m---> 67\u001b[1;33m       \u001b[1;32mraise\u001b[0m \u001b[0me\u001b[0m\u001b[1;33m.\u001b[0m\u001b[0mwith_traceback\u001b[0m\u001b[1;33m(\u001b[0m\u001b[0mfiltered_tb\u001b[0m\u001b[1;33m)\u001b[0m \u001b[1;32mfrom\u001b[0m \u001b[1;32mNone\u001b[0m\u001b[1;33m\u001b[0m\u001b[1;33m\u001b[0m\u001b[0m\n\u001b[0m\u001b[0;32m     68\u001b[0m     \u001b[1;32mfinally\u001b[0m\u001b[1;33m:\u001b[0m\u001b[1;33m\u001b[0m\u001b[1;33m\u001b[0m\u001b[0m\n\u001b[0;32m     69\u001b[0m       \u001b[1;32mdel\u001b[0m \u001b[0mfiltered_tb\u001b[0m\u001b[1;33m\u001b[0m\u001b[1;33m\u001b[0m\u001b[0m\n",
      "\u001b[1;32m~\\anaconda3\\lib\\site-packages\\keras\\engine\\training.py\u001b[0m in \u001b[0;36mtf__predict_function\u001b[1;34m(iterator)\u001b[0m\n\u001b[0;32m     13\u001b[0m                 \u001b[1;32mtry\u001b[0m\u001b[1;33m:\u001b[0m\u001b[1;33m\u001b[0m\u001b[1;33m\u001b[0m\u001b[0m\n\u001b[0;32m     14\u001b[0m                     \u001b[0mdo_return\u001b[0m \u001b[1;33m=\u001b[0m \u001b[1;32mTrue\u001b[0m\u001b[1;33m\u001b[0m\u001b[1;33m\u001b[0m\u001b[0m\n\u001b[1;32m---> 15\u001b[1;33m                     \u001b[0mretval_\u001b[0m \u001b[1;33m=\u001b[0m \u001b[0mag__\u001b[0m\u001b[1;33m.\u001b[0m\u001b[0mconverted_call\u001b[0m\u001b[1;33m(\u001b[0m\u001b[0mag__\u001b[0m\u001b[1;33m.\u001b[0m\u001b[0mld\u001b[0m\u001b[1;33m(\u001b[0m\u001b[0mstep_function\u001b[0m\u001b[1;33m)\u001b[0m\u001b[1;33m,\u001b[0m \u001b[1;33m(\u001b[0m\u001b[0mag__\u001b[0m\u001b[1;33m.\u001b[0m\u001b[0mld\u001b[0m\u001b[1;33m(\u001b[0m\u001b[0mself\u001b[0m\u001b[1;33m)\u001b[0m\u001b[1;33m,\u001b[0m \u001b[0mag__\u001b[0m\u001b[1;33m.\u001b[0m\u001b[0mld\u001b[0m\u001b[1;33m(\u001b[0m\u001b[0miterator\u001b[0m\u001b[1;33m)\u001b[0m\u001b[1;33m)\u001b[0m\u001b[1;33m,\u001b[0m \u001b[1;32mNone\u001b[0m\u001b[1;33m,\u001b[0m \u001b[0mfscope\u001b[0m\u001b[1;33m)\u001b[0m\u001b[1;33m\u001b[0m\u001b[1;33m\u001b[0m\u001b[0m\n\u001b[0m\u001b[0;32m     16\u001b[0m                 \u001b[1;32mexcept\u001b[0m\u001b[1;33m:\u001b[0m\u001b[1;33m\u001b[0m\u001b[1;33m\u001b[0m\u001b[0m\n\u001b[0;32m     17\u001b[0m                     \u001b[0mdo_return\u001b[0m \u001b[1;33m=\u001b[0m \u001b[1;32mFalse\u001b[0m\u001b[1;33m\u001b[0m\u001b[1;33m\u001b[0m\u001b[0m\n",
      "\u001b[1;31mValueError\u001b[0m: in user code:\n\n    File \"C:\\Users\\Arthur\\anaconda3\\lib\\site-packages\\keras\\engine\\training.py\", line 1845, in predict_function  *\n        return step_function(self, iterator)\n    File \"C:\\Users\\Arthur\\anaconda3\\lib\\site-packages\\keras\\engine\\training.py\", line 1834, in step_function  **\n        outputs = model.distribute_strategy.run(run_step, args=(data,))\n    File \"C:\\Users\\Arthur\\anaconda3\\lib\\site-packages\\keras\\engine\\training.py\", line 1823, in run_step  **\n        outputs = model.predict_step(data)\n    File \"C:\\Users\\Arthur\\anaconda3\\lib\\site-packages\\keras\\engine\\training.py\", line 1791, in predict_step\n        return self(x, training=False)\n    File \"C:\\Users\\Arthur\\anaconda3\\lib\\site-packages\\keras\\utils\\traceback_utils.py\", line 67, in error_handler\n        raise e.with_traceback(filtered_tb) from None\n    File \"C:\\Users\\Arthur\\anaconda3\\lib\\site-packages\\keras\\engine\\input_spec.py\", line 228, in assert_input_compatibility\n        raise ValueError(f'Input {input_index} of layer \"{layer_name}\" '\n\n    ValueError: Exception encountered when calling layer \"sequential_7\" (type Sequential).\n    \n    Input 0 of layer \"dense_21\" is incompatible with the layer: expected min_ndim=2, found ndim=1. Full shape received: (32,)\n    \n    Call arguments received by layer \"sequential_7\" (type Sequential):\n      • inputs=('tf.Tensor(shape=(32,), dtype=float32)',)\n      • training=False\n      • mask=None\n"
     ]
    }
   ],
   "source": [
    "network.predict([resultados[2][0][0]])"
   ]
  },
  {
   "cell_type": "code",
   "execution_count": 72,
   "metadata": {},
   "outputs": [
    {
     "data": {
      "text/plain": [
       "(1600,)"
      ]
     },
     "execution_count": 72,
     "metadata": {},
     "output_type": "execute_result"
    }
   ],
   "source": [
    "resultados[2][0][0].shape"
   ]
  },
  {
   "cell_type": "markdown",
   "metadata": {},
   "source": [
    "## Classificação com redes neurais convolucionais"
   ]
  },
  {
   "cell_type": "code",
   "execution_count": null,
   "metadata": {},
   "outputs": [],
   "source": []
  },
  {
   "cell_type": "code",
   "execution_count": null,
   "metadata": {},
   "outputs": [],
   "source": []
  }
 ],
 "metadata": {
  "kernelspec": {
   "display_name": "Python 3 (ipykernel)",
   "language": "python",
   "name": "python3"
  },
  "language_info": {
   "codemirror_mode": {
    "name": "ipython",
    "version": 3
   },
   "file_extension": ".py",
   "mimetype": "text/x-python",
   "name": "python",
   "nbconvert_exporter": "python",
   "pygments_lexer": "ipython3",
   "version": "3.8.10"
  }
 },
 "nbformat": 4,
 "nbformat_minor": 4
}
